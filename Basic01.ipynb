{
  "nbformat": 4,
  "nbformat_minor": 0,
  "metadata": {
    "colab": {
      "provenance": [],
      "authorship_tag": "ABX9TyMHEOz9RRIKczgG1xmoz5nq",
      "include_colab_link": true
    },
    "kernelspec": {
      "name": "python3",
      "display_name": "Python 3"
    },
    "language_info": {
      "name": "python"
    }
  },
  "cells": [
    {
      "cell_type": "markdown",
      "metadata": {
        "id": "view-in-github",
        "colab_type": "text"
      },
      "source": [
        "<a href=\"https://colab.research.google.com/github/Ambreensheikh/Assignment_4/blob/main/Basic01.ipynb\" target=\"_parent\"><img src=\"https://colab.research.google.com/assets/colab-badge.svg\" alt=\"Open In Colab\"/></a>"
      ]
    },
    {
      "cell_type": "markdown",
      "source": [],
      "metadata": {
        "id": "2IHI2_brV7x0"
      }
    },
    {
      "cell_type": "markdown",
      "source": [
        "# ***Double_it***"
      ],
      "metadata": {
        "id": "wXj0YojbV8cJ"
      }
    },
    {
      "cell_type": "code",
      "execution_count": null,
      "metadata": {
        "colab": {
          "base_uri": "https://localhost:8080/",
          "height": 64
        },
        "id": "lQqKogCqV2tW",
        "outputId": "18a858fe-f9d2-412e-afc5-f0eb202ca4f0"
      },
      "outputs": [
        {
          "name": "stdout",
          "output_type": "stream",
          "text": [
            "Enter your number: 4\n"
          ]
        },
        {
          "output_type": "display_data",
          "data": {
            "text/plain": [
              "<IPython.core.display.HTML object>"
            ],
            "text/html": [
              "<p style='color: maroon;'><span style='color: maroon;'>8</span> <span style='color: maroon;'>16</span> <span style='color: maroon;'>32</span> <span style='color: maroon;'>64</span> <span style='color: maroon;'>128</span> </p>"
            ]
          },
          "metadata": {}
        }
      ],
      "source": [
        "from IPython.display import display, HTML\n",
        "\n",
        "def main():\n",
        "    number = int(input(\"Enter your number: \"))\n",
        "    output = \"\"\n",
        "    while number < 100:  # Loop until the number is 100 or greater\n",
        "        number = number * 2\n",
        "        output += f\"<span style='color: maroon;'>{number}</span> \"\n",
        "    display(HTML(f\"<p style='color: maroon;'>{output}</p>\"))\n",
        "\n",
        "if __name__ == \"__main__\":\n",
        "    main()\n",
        "\n"
      ]
    }
  ]
}