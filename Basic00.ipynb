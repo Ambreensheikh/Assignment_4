{
  "nbformat": 4,
  "nbformat_minor": 0,
  "metadata": {
    "colab": {
      "provenance": [],
      "authorship_tag": "ABX9TyNHagOcR2Zd73E6Oi9pl6gC",
      "include_colab_link": true
    },
    "kernelspec": {
      "name": "python3",
      "display_name": "Python 3"
    },
    "language_info": {
      "name": "python"
    }
  },
  "cells": [
    {
      "cell_type": "markdown",
      "metadata": {
        "id": "view-in-github",
        "colab_type": "text"
      },
      "source": [
        "<a href=\"https://colab.research.google.com/github/Ambreensheikh/Assignment_4/blob/main/Basic00.ipynb\" target=\"_parent\"><img src=\"https://colab.research.google.com/assets/colab-badge.svg\" alt=\"Open In Colab\"/></a>"
      ]
    },
    {
      "cell_type": "markdown",
      "source": [],
      "metadata": {
        "id": "8o1QwrooC9P4"
      }
    },
    {
      "cell_type": "markdown",
      "source": [
        "# ***Joke_Bot for user***"
      ],
      "metadata": {
        "id": "5-ZQwm1gC_Io"
      }
    },
    {
      "cell_type": "code",
      "execution_count": null,
      "metadata": {
        "colab": {
          "base_uri": "https://localhost:8080/",
          "height": 137
        },
        "id": "m59TNCvaA10y",
        "outputId": "3d4dd902-8131-4dc0-900f-21076577c6ce"
      },
      "outputs": [
        {
          "output_type": "display_data",
          "data": {
            "text/plain": [
              "<IPython.core.display.HTML object>"
            ],
            "text/html": [
              "\n",
              "    <div style=\"background-color: #D3D3FF; padding: 10px;\">\n",
              "        <label for=\"user_input\" style=\"font-size: 20px; color: blue;\">What do you want? </label>\n",
              "        <input type=\"text\" id=\"user_input\" name=\"user_input\" style=\"font-size: 18px; padding: 5px; width: 300px;\" />\n",
              "    </div>\n",
              "    "
            ]
          },
          "metadata": {}
        },
        {
          "output_type": "display_data",
          "data": {
            "text/plain": [
              "<IPython.core.display.HTML object>"
            ],
            "text/html": [
              "\n",
              "        <div style=\"background-color: #800080; padding: 20px; color: white; font-size: 22px;\">\n",
              "            Here is a joke for you! Why did the scarecrow win an award? Because he was outstanding in his field.\n",
              "        </div>\n",
              "        "
            ]
          },
          "metadata": {}
        }
      ],
      "source": [
        "from IPython.display import display, HTML\n",
        "\n",
        "PROMPT = \"What do you want? \"\n",
        "JOKE = \"Here is a joke for you! Why did the scarecrow win an award? Because he was outstanding in his field.\"\n",
        "SORRY = \"Sorry, I only tell jokes.\"\n",
        "\n",
        "def get_user_input():\n",
        "    # Create a simple text box in the Colab output with a blue background\n",
        "    input_html = f\"\"\"\n",
        "    <div style=\"background-color: #D3D3FF; padding: 10px;\">\n",
        "        <label for=\"user_input\" style=\"font-size: 20px; color: blue;\">{PROMPT}</label>\n",
        "        <input type=\"text\" id=\"user_input\" name=\"user_input\" style=\"font-size: 18px; padding: 5px; width: 300px;\" />\n",
        "    </div>\n",
        "    \"\"\"\n",
        "    display(HTML(input_html))\n",
        "\n",
        "def main():\n",
        "\n",
        "    get_user_input()\n",
        "\n",
        "\n",
        "    user_input = \"joke\"  # In practice, replace this with real input logic.\n",
        "\n",
        "    if \"joke\" in user_input:\n",
        "        joke_html = f\"\"\"\n",
        "        <div style=\"background-color: #800080; padding: 20px; color: white; font-size: 22px;\">\n",
        "            {JOKE}\n",
        "        </div>\n",
        "        \"\"\"\n",
        "        display(HTML(joke_html))\n",
        "    else:\n",
        "        sorry_html = f\"\"\"\n",
        "        <div style=\"background-color: #800080; padding: 20px; color: white; font-size: 22px;\">\n",
        "            {SORRY}\n",
        "        </div>\n",
        "        \"\"\"\n",
        "        display(HTML(sorry_html))\n",
        "\n",
        "# Run the joke bot\n",
        "main()\n"
      ]
    }
  ]
}