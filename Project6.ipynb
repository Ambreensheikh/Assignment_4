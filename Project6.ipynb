{
  "nbformat": 4,
  "nbformat_minor": 0,
  "metadata": {
    "colab": {
      "provenance": [],
      "authorship_tag": "ABX9TyOmBlHCB6MhsfLlRREhGyof",
      "include_colab_link": true
    },
    "kernelspec": {
      "name": "python3",
      "display_name": "Python 3"
    },
    "language_info": {
      "name": "python"
    }
  },
  "cells": [
    {
      "cell_type": "markdown",
      "metadata": {
        "id": "view-in-github",
        "colab_type": "text"
      },
      "source": [
        "<a href=\"https://colab.research.google.com/github/Ambreensheikh/Assignment_4/blob/main/Project6.ipynb\" target=\"_parent\"><img src=\"https://colab.research.google.com/assets/colab-badge.svg\" alt=\"Open In Colab\"/></a>"
      ]
    },
    {
      "cell_type": "code",
      "execution_count": null,
      "metadata": {
        "id": "9Oqnk5VZuujh"
      },
      "outputs": [],
      "source": []
    },
    {
      "cell_type": "markdown",
      "source": [
        "Countdown Timer Python Project"
      ],
      "metadata": {
        "id": "EqTMwmDyuxgR"
      }
    },
    {
      "cell_type": "code",
      "source": [
        "import time\n",
        "\n",
        "def countdown_timer(seconds):\n",
        "    while seconds > 0:\n",
        "        # Convert seconds to minutes and seconds format (MM:SS)\n",
        "        minutes, sec = divmod(seconds, 60)\n",
        "        time_format = f\"{minutes:02}:{sec:02}\"\n",
        "        print(f\"Time Left: {time_format}\", end=\"\\r\")  # Print in the same line\n",
        "        time.sleep(1)  # Wait for 1 second\n",
        "        seconds -= 1\n",
        "\n",
        "    print(\"\\nTime's up!\")  # Display message when countdown ends\n",
        "\n",
        "# Get user input for countdown duration\n",
        "try:\n",
        "    total_seconds = int(input(\"Enter the countdown time in seconds: \"))\n",
        "    countdown_timer(total_seconds)\n",
        "except ValueError:\n",
        "    print(\"Please enter a valid integer.\")\n"
      ],
      "metadata": {
        "colab": {
          "base_uri": "https://localhost:8080/"
        },
        "id": "xHx2BCPi1VUq",
        "outputId": "e51fa82f-bc25-44fb-c129-2a861a5f47af"
      },
      "execution_count": null,
      "outputs": [
        {
          "output_type": "stream",
          "name": "stdout",
          "text": [
            "Enter the countdown time in seconds: 16\n",
            "\n",
            "Time's up!\n"
          ]
        }
      ]
    }
  ]
}