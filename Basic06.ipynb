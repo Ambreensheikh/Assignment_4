{
  "nbformat": 4,
  "nbformat_minor": 0,
  "metadata": {
    "colab": {
      "provenance": [],
      "authorship_tag": "ABX9TyNMOLzX6vUNFap/k5WMK1+/",
      "include_colab_link": true
    },
    "kernelspec": {
      "name": "python3",
      "display_name": "Python 3"
    },
    "language_info": {
      "name": "python"
    }
  },
  "cells": [
    {
      "cell_type": "markdown",
      "metadata": {
        "id": "view-in-github",
        "colab_type": "text"
      },
      "source": [
        "<a href=\"https://colab.research.google.com/github/Ambreensheikh/Assignment_4/blob/main/Basic06.ipynb\" target=\"_parent\"><img src=\"https://colab.research.google.com/assets/colab-badge.svg\" alt=\"Open In Colab\"/></a>"
      ]
    },
    {
      "cell_type": "markdown",
      "source": [],
      "metadata": {
        "id": "ZNfgSpxDGunL"
      }
    },
    {
      "cell_type": "markdown",
      "source": [
        "# ***Square_number***"
      ],
      "metadata": {
        "id": "vDqGEQnJGvQw"
      }
    },
    {
      "cell_type": "code",
      "execution_count": null,
      "metadata": {
        "colab": {
          "base_uri": "https://localhost:8080/"
        },
        "id": "dEVOEhICEVOP",
        "outputId": "d07ea09b-df16-48bf-a002-cc15ac34d756"
      },
      "outputs": [
        {
          "output_type": "stream",
          "name": "stdout",
          "text": [
            "Type a number to see its square: 64.5\n",
            "64.5 squared is 4160.25\n"
          ]
        }
      ],
      "source": [
        "# User input for number\n",
        "num = float(input(\"Type a number to see its square: \"))\n",
        "\n",
        "# Calculating square of the number\n",
        "square = num ** 2\n",
        "\n",
        "# Displaying the result\n",
        "print(f\"{num} squared is {square}\")\n"
      ]
    }
  ]
}