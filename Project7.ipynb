{
  "nbformat": 4,
  "nbformat_minor": 0,
  "metadata": {
    "colab": {
      "provenance": [],
      "authorship_tag": "ABX9TyM/eBk54paI6fdBBnMRWzNf",
      "include_colab_link": true
    },
    "kernelspec": {
      "name": "python3",
      "display_name": "Python 3"
    },
    "language_info": {
      "name": "python"
    }
  },
  "cells": [
    {
      "cell_type": "markdown",
      "metadata": {
        "id": "view-in-github",
        "colab_type": "text"
      },
      "source": [
        "<a href=\"https://colab.research.google.com/github/Ambreensheikh/Assignment_4/blob/main/Project7.ipynb\" target=\"_parent\"><img src=\"https://colab.research.google.com/assets/colab-badge.svg\" alt=\"Open In Colab\"/></a>"
      ]
    },
    {
      "cell_type": "code",
      "source": [
        "import random\n",
        "import string\n",
        "\n",
        "def generate_password(length):\n",
        "    \"\"\"Generates a random password of the specified length.\"\"\"\n",
        "    all_characters = string.ascii_letters + string.digits + string.punctuation\n",
        "    password = ''.join(random.choice(all_characters) for _ in range(length))\n",
        "    return password\n",
        "\n",
        "def password_generator():\n",
        "    \"\"\"Generates multiple passwords based on user input.\"\"\"\n",
        "    try:\n",
        "        # Collect user inputs\n",
        "        num_passwords = int(input(\"Enter the number of passwords to generate: \").strip())\n",
        "        length = int(input(\"Enter the desired length of each password: \").strip())\n",
        "\n",
        "        # Generate and display the passwords\n",
        "        if num_passwords <= 0 or length <= 0:\n",
        "            print(\"Please enter positive integers for both inputs.\")\n",
        "            return\n",
        "\n",
        "        print(\"\\nGenerated Passwords:\")\n",
        "        for i in range(num_passwords):\n",
        "            print(f\"Password {i + 1}: {generate_password(length)}\")\n",
        "    except ValueError:\n",
        "        print(\"Invalid input. Please enter valid integers for the number of passwords and length.\")\n",
        "\n",
        "# Run the password generator\n",
        "password_generator()\n"
      ],
      "metadata": {
        "colab": {
          "base_uri": "https://localhost:8080/"
        },
        "id": "RYxDk1DT6J6R",
        "outputId": "16351ed3-8e0c-4427-f656-3b7ae74d18e1"
      },
      "execution_count": null,
      "outputs": [
        {
          "output_type": "stream",
          "name": "stdout",
          "text": [
            "Enter the number of passwords to generate: 3\n",
            "Enter the desired length of each password: 8\n",
            "\n",
            "Generated Passwords:\n",
            "Password 1: UE7[Y0~R\n",
            "Password 2: lj+,$AS`\n",
            "Password 3: Us8tb23Q\n"
          ]
        }
      ]
    },
    {
      "cell_type": "markdown",
      "source": [
        "Password Generator Python Project"
      ],
      "metadata": {
        "id": "vr2z3ZoQ2Hbt"
      }
    }
  ]
}