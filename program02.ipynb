{
  "nbformat": 4,
  "nbformat_minor": 0,
  "metadata": {
    "colab": {
      "provenance": [],
      "authorship_tag": "ABX9TyMg0iAbVQs3DJdcesgZf6YM",
      "include_colab_link": true
    },
    "kernelspec": {
      "name": "python3",
      "display_name": "Python 3"
    },
    "language_info": {
      "name": "python"
    }
  },
  "cells": [
    {
      "cell_type": "markdown",
      "metadata": {
        "id": "view-in-github",
        "colab_type": "text"
      },
      "source": [
        "<a href=\"https://colab.research.google.com/github/Ambreensheikh/Assignment_4/blob/main/program02.ipynb\" target=\"_parent\"><img src=\"https://colab.research.google.com/assets/colab-badge.svg\" alt=\"Open In Colab\"/></a>"
      ]
    },
    {
      "cell_type": "markdown",
      "source": [
        "# *Agreement_bot*"
      ],
      "metadata": {
        "id": "AyNwLvvVXWup"
      }
    },
    {
      "cell_type": "code",
      "execution_count": null,
      "metadata": {
        "id": "QHbpqxyyyGoc",
        "colab": {
          "base_uri": "https://localhost:8080/"
        },
        "outputId": "406a5018-724e-4d89-c3bf-9bd193754c32"
      },
      "outputs": [
        {
          "output_type": "stream",
          "name": "stdout",
          "text": [
            "What is your favourite animal?cat\n",
            "My favourite animal is also cat !\n"
          ]
        }
      ],
      "source": [
        "def main():\n",
        "\n",
        " favourite_animal = input(\"What is your favourite animal?\")\n",
        " print(f\"My favourite animal is also {favourite_animal} !\")\n",
        "if __name__ == '__main__':\n",
        "    main()\n",
        "\n"
      ]
    }
  ]
}