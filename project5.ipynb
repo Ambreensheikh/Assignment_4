{
  "cells": [
    {
      "cell_type": "markdown",
      "metadata": {
        "id": "view-in-github",
        "colab_type": "text"
      },
      "source": [
        "<a href=\"https://colab.research.google.com/github/Ambreensheikh/Assignment_4/blob/main/project5.ipynb\" target=\"_parent\"><img src=\"https://colab.research.google.com/assets/colab-badge.svg\" alt=\"Open In Colab\"/></a>"
      ]
    },
    {
      "cell_type": "markdown",
      "metadata": {
        "id": "a7Jd5Seur71I"
      },
      "source": [
        "Hangman Python Project"
      ]
    },
    {
      "cell_type": "code",
      "execution_count": null,
      "metadata": {
        "colab": {
          "background_save": true,
          "base_uri": "https://localhost:8080/"
        },
        "id": "DykJEXPvsMeO",
        "outputId": "65925ed4-7335-4684-eed4-ad3cabee102f"
      },
      "outputs": [
        {
          "name": "stdout",
          "output_type": "stream",
          "text": [
            "Welcome to Hangman!\n",
            "The word has 5 letters.\n",
            "_ _ _ _ _\n",
            "Invalid input. Please guess a single letter.\n",
            "Incorrect guess. You have 5 attempts left.\n",
            "_ _ _ _ _\n",
            "Incorrect guess. You have 4 attempts left.\n",
            "_ _ _ _ _\n",
            "Incorrect guess. You have 3 attempts left.\n",
            "_ _ _ _ _\n",
            "Invalid input. Please guess a single letter.\n"
          ]
        }
      ],
      "source": [
        "# Import necessary modules\n",
        "import random\n",
        "import string\n",
        "\n",
        "# Step 1: Define a function to choose a random word from a list\n",
        "def choose_random_word():\n",
        "    word_list = [\"python\", \"hangman\", \"programming\", \"colab\", \"dictionary\", \"nested\", \"string\"]\n",
        "    return random.choice(word_list)\n",
        "\n",
        "# Step 2: Function to display the current word status (with underscores for unguessed letters)\n",
        "def display_word_status(word, guessed_letters):\n",
        "    display = [letter if letter in guessed_letters else \"_\" for letter in word]\n",
        "    return \" \".join(display)\n",
        "\n",
        "# Step 3: Function to check if the word has been fully guessed\n",
        "def is_word_guessed(word, guessed_letters):\n",
        "    return all(letter in guessed_letters for letter in word)\n",
        "\n",
        "# Step 4: Main Hangman function\n",
        "def play_hangman():\n",
        "    # Choose a random word\n",
        "    word_to_guess = choose_random_word()\n",
        "    guessed_letters = []  # List to store guessed letters\n",
        "    attempts_left = 6  # Number of allowed incorrect guesses\n",
        "    incorrect_guesses = []  # List to store incorrect guesses\n",
        "\n",
        "    print(\"Welcome to Hangman!\")\n",
        "    print(f\"The word has {len(word_to_guess)} letters.\")\n",
        "    print(display_word_status(word_to_guess, guessed_letters))\n",
        "\n",
        "    # Step 5: Game loop\n",
        "    while attempts_left > 0:\n",
        "        # Step 6: Ask the player for a guess\n",
        "        guess = input(\"\\nGuess a letter: \").lower()\n",
        "\n",
        "        # Step 7: Check if the guess is valid\n",
        "        if guess not in string.ascii_lowercase or len(guess) != 1:\n",
        "            print(\"Invalid input. Please guess a single letter.\")\n",
        "            continue\n",
        "\n",
        "        # Step 8: Check if the letter has already been guessed\n",
        "        if guess in guessed_letters or guess in incorrect_guesses:\n",
        "            print(\"You've already guessed that letter. Try again.\")\n",
        "            continue\n",
        "\n",
        "        # Step 9: Check if the guess is correct\n",
        "        if guess in word_to_guess:\n",
        "            guessed_letters.append(guess)\n",
        "            print(\"Good guess!\")\n",
        "        else:\n",
        "            incorrect_guesses.append(guess)\n",
        "            attempts_left -= 1\n",
        "            print(f\"Incorrect guess. You have {attempts_left} attempts left.\")\n",
        "\n",
        "        # Step 10: Display the current word status\n",
        "        print(display_word_status(word_to_guess, guessed_letters))\n",
        "\n",
        "        # Step 11: Check if the word has been fully guessed\n",
        "        if is_word_guessed(word_to_guess, guessed_letters):\n",
        "            print(f\"Congratulations! You've guessed the word: {word_to_guess}\")\n",
        "            break\n",
        "\n",
        "    # Step 12: If the player runs out of attempts\n",
        "    if attempts_left == 0:\n",
        "        print(f\"Game over! The word was: {word_to_guess}\")\n",
        "\n",
        "# Step 13: Run the game\n",
        "play_hangman()\n"
      ]
    }
  ],
  "metadata": {
    "colab": {
      "provenance": [],
      "authorship_tag": "ABX9TyMF/Lxft1LuJdIhkdgcVSJm",
      "include_colab_link": true
    },
    "kernelspec": {
      "display_name": "Python 3",
      "name": "python3"
    },
    "language_info": {
      "name": "python"
    }
  },
  "nbformat": 4,
  "nbformat_minor": 0
}