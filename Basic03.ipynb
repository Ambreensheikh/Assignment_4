{
  "cells": [
    {
      "cell_type": "markdown",
      "metadata": {
        "id": "view-in-github",
        "colab_type": "text"
      },
      "source": [
        "<a href=\"https://colab.research.google.com/github/Ambreensheikh/Assignment_4/blob/main/Basic03.ipynb\" target=\"_parent\"><img src=\"https://colab.research.google.com/assets/colab-badge.svg\" alt=\"Open In Colab\"/></a>"
      ]
    },
    {
      "cell_type": "markdown",
      "metadata": {
        "id": "uNKJlI7wZBOk"
      },
      "source": []
    },
    {
      "cell_type": "markdown",
      "metadata": {
        "id": "O3KVNJIKZD53"
      },
      "source": [
        "# ***Guess_My_Number***"
      ]
    },
    {
      "cell_type": "code",
      "execution_count": null,
      "metadata": {
        "colab": {
          "background_save": true,
          "base_uri": "https://localhost:8080/",
          "height": 155
        },
        "id": "QKnq0DkqY8Vm",
        "outputId": "431260a0-8cb1-44de-8392-17da361fa376"
      },
      "outputs": [
        {
          "data": {
            "text/html": [
              "<p style=\"color: maroon; font-family: Arial, sans-serif;\">Welcome to the 'Guess My Number' game !</p>"
            ],
            "text/plain": [
              "<IPython.core.display.HTML object>"
            ]
          },
          "metadata": {},
          "output_type": "display_data"
        },
        {
          "data": {
            "text/html": [
              "<p style=\"color: maroon; font-family: Arial, sans-serif;\">I am thinking of a number between 0 and 99... Can you guess it?</p>"
            ],
            "text/plain": [
              "<IPython.core.display.HTML object>"
            ]
          },
          "metadata": {},
          "output_type": "display_data"
        },
        {
          "data": {
            "text/html": [
              "<p style=\"color: grey; font-family: Arial, sans-serif;\">Your guess is too low</p>"
            ],
            "text/plain": [
              "<IPython.core.display.HTML object>"
            ]
          },
          "metadata": {},
          "output_type": "display_data"
        }
      ],
      "source": [
        "import random\n",
        "from IPython.display import display, HTML\n",
        "\n",
        "def custom_print(message, color=\"lightgrey\"):\n",
        "    # display with color\n",
        "    display(HTML(f'<p style=\"color: {color}; font-family: Arial, sans-serif;\">{message}</p>'))\n",
        "\n",
        "def main():\n",
        "\n",
        "    number_to_guess = random.randint(0, 99)\n",
        "    guess = None\n",
        "    attempts = 0\n",
        "\n",
        "    custom_print(\"Welcome to the 'Guess My Number' game !\", \"maroon\")\n",
        "    custom_print(\"I am thinking of a number between 0 and 99... Can you guess it?\", \"maroon\")\n",
        "\n",
        "\n",
        "    while guess != number_to_guess:\n",
        "        #prompt\n",
        "        guess = int(input(\"Enter Your guess: \"))\n",
        "        attempts += 1\n",
        "\n",
        "        #condition\n",
        "        if guess < number_to_guess:\n",
        "            custom_print(\"Your guess is too low\", \"grey\")\n",
        "        elif guess > number_to_guess:\n",
        "            custom_print(\"Your guess is too high\", \"grey\")\n",
        "\n",
        "\n",
        "    custom_print(f\"Congrats! The number was: {number_to_guess}\", \"grey\")\n",
        "    custom_print(f\"You guessed it in {attempts} attempts.\", \"grey\")\n",
        "\n",
        "\n",
        "if __name__ == \"__main__\":\n",
        "    main()\n"
      ]
    }
  ],
  "metadata": {
    "colab": {
      "provenance": [],
      "authorship_tag": "ABX9TyNe6+Y5Ddlwpey2PCj0X7At",
      "include_colab_link": true
    },
    "kernelspec": {
      "display_name": "Python 3",
      "name": "python3"
    },
    "language_info": {
      "name": "python"
    }
  },
  "nbformat": 4,
  "nbformat_minor": 0
}