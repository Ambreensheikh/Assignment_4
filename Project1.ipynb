{
  "nbformat": 4,
  "nbformat_minor": 0,
  "metadata": {
    "colab": {
      "provenance": [],
      "authorship_tag": "ABX9TyMbh6JzrIu4mZyjcGXs3YuM",
      "include_colab_link": true
    },
    "kernelspec": {
      "name": "python3",
      "display_name": "Python 3"
    },
    "language_info": {
      "name": "python"
    }
  },
  "cells": [
    {
      "cell_type": "markdown",
      "metadata": {
        "id": "view-in-github",
        "colab_type": "text"
      },
      "source": [
        "<a href=\"https://colab.research.google.com/github/Ambreensheikh/Assignment_4/blob/main/Project1.ipynb\" target=\"_parent\"><img src=\"https://colab.research.google.com/assets/colab-badge.svg\" alt=\"Open In Colab\"/></a>"
      ]
    },
    {
      "cell_type": "code",
      "execution_count": null,
      "metadata": {
        "id": "lxbHxwHHcY1e"
      },
      "outputs": [],
      "source": [
        "\n"
      ]
    },
    {
      "source": [
        "PROMPT: str = \"What do you want? \"\n",
        "JOKE: str = \"Here is a joke for you! Why did the scarecrow win an award? Because he was outstanding in his field. \"\n",
        "SORRY: str = \"Sorry I only tell jokes.\"\n",
        "\n",
        "def main():\n",
        "    user_input = input(PROMPT)  # Get user input\n",
        "    print(user_input)\n",
        "    if user_input == \"joke\":  # Check if the input is \"Joke\"\n",
        "        print(JOKE)  # Print the joke if it is\n",
        "    else:\n",
        "        print(SORRY)  # Print the sorry message otherwise\n",
        "\n",
        "# This provided line is required at the end of\n",
        "# Python file to call the main() function.\n",
        "if __name__ == '__main__':\n",
        "    main()"
      ],
      "cell_type": "code",
      "metadata": {
        "colab": {
          "base_uri": "https://localhost:8080/"
        },
        "id": "A1pQbYS5mnl_",
        "outputId": "f59944ab-80f6-41e0-9ef3-48548c15d4ea"
      },
      "execution_count": null,
      "outputs": [
        {
          "output_type": "stream",
          "name": "stdout",
          "text": [
            "What do you want? joke\n",
            "joke\n",
            "Here is a joke for you! Why did the scarecrow win an award? Because he was outstanding in his field. \n"
          ]
        }
      ]
    },
    {
      "source": [],
      "cell_type": "code",
      "metadata": {
        "id": "yVKTYaS7cMED"
      },
      "execution_count": null,
      "outputs": []
    }
  ]
}