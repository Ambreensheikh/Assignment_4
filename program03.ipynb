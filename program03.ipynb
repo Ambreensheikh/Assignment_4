{
  "nbformat": 4,
  "nbformat_minor": 0,
  "metadata": {
    "colab": {
      "provenance": [],
      "authorship_tag": "ABX9TyO+ViDilRfPyrmE7hScFpr+",
      "include_colab_link": true
    },
    "kernelspec": {
      "name": "python3",
      "display_name": "Python 3"
    },
    "language_info": {
      "name": "python"
    }
  },
  "cells": [
    {
      "cell_type": "markdown",
      "metadata": {
        "id": "view-in-github",
        "colab_type": "text"
      },
      "source": [
        "<a href=\"https://colab.research.google.com/github/Ambreensheikh/Assignment_4/blob/main/program03.ipynb\" target=\"_parent\"><img src=\"https://colab.research.google.com/assets/colab-badge.svg\" alt=\"Open In Colab\"/></a>"
      ]
    },
    {
      "cell_type": "markdown",
      "source": [],
      "metadata": {
        "id": "1SlmIoItajSr"
      }
    },
    {
      "cell_type": "markdown",
      "source": [
        "# ***Farenheit_to_celcius***"
      ],
      "metadata": {
        "id": "1LUFnuBqakcC"
      }
    },
    {
      "cell_type": "code",
      "execution_count": null,
      "metadata": {
        "colab": {
          "base_uri": "https://localhost:8080/"
        },
        "id": "LQuZarg3ad72",
        "outputId": "634c1541-a3c4-479a-8be7-e87a94444eb0"
      },
      "outputs": [
        {
          "output_type": "stream",
          "name": "stdout",
          "text": [
            "Enter temperature in Degrees_farenheit: 44\n",
            "Temperature: 44.0F =  6.67C\n"
          ]
        }
      ],
      "source": [
        "def main():\n",
        "\n",
        " degrees_farenheit = float(input('Enter temperature in Degrees_farenheit: '))\n",
        " degrees_celsius = (degrees_farenheit - 32) * 5.0/9.0\n",
        " print(f'Temperature: {degrees_farenheit}F = {degrees_celsius: .2f}C')\n",
        "\n",
        "if __name__ == '__main__':\n",
        "    main()\n",
        "\n"
      ]
    }
  ]
}