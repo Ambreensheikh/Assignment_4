{
  "nbformat": 4,
  "nbformat_minor": 0,
  "metadata": {
    "colab": {
      "provenance": [],
      "authorship_tag": "ABX9TyPlQlMyzWxmNv7Uorv6DlEX",
      "include_colab_link": true
    },
    "kernelspec": {
      "name": "python3",
      "display_name": "Python 3"
    },
    "language_info": {
      "name": "python"
    }
  },
  "cells": [
    {
      "cell_type": "markdown",
      "metadata": {
        "id": "view-in-github",
        "colab_type": "text"
      },
      "source": [
        "<a href=\"https://colab.research.google.com/github/Ambreensheikh/Assignment_4/blob/main/Basic02.ipynb\" target=\"_parent\"><img src=\"https://colab.research.google.com/assets/colab-badge.svg\" alt=\"Open In Colab\"/></a>"
      ]
    },
    {
      "cell_type": "markdown",
      "source": [],
      "metadata": {
        "id": "IRCZiOHtiSdK"
      }
    },
    {
      "cell_type": "markdown",
      "source": [
        "# ***Lift-off-numbers***"
      ],
      "metadata": {
        "id": "1YNG3oPfiTDM"
      }
    },
    {
      "cell_type": "code",
      "execution_count": null,
      "metadata": {
        "colab": {
          "base_uri": "https://localhost:8080/",
          "height": 94
        },
        "id": "BKcRdONzg2Dl",
        "outputId": "ca7977f0-b7ca-44a6-d3ca-289c9c3662d7"
      },
      "outputs": [
        {
          "output_type": "display_data",
          "data": {
            "text/plain": [
              "<IPython.core.display.HTML object>"
            ],
            "text/html": [
              "<div style=\"background-color: purple; color: yellow; font-size: 30px; padding: 20px; text-align: center;\">10 9 8 7 6 5 4 3 2 1 Liftoff!</div>"
            ]
          },
          "metadata": {}
        }
      ],
      "source": [
        "from IPython.display import HTML, display\n",
        "\n",
        "def main():\n",
        "\n",
        "    lift_off = \" \".join([str(i) for i in range(10, 0, -1)]) + \" Liftoff!\"\n",
        "\n",
        "\n",
        "    display(HTML(f'<div style=\"background-color: purple; color: yellow; font-size: 30px; padding: 20px; text-align: center;\">{lift_off}</div>'))\n",
        "\n",
        "if __name__ == \"__main__\":\n",
        "    main()\n"
      ]
    }
  ]
}